{
 "cells": [
  {
   "cell_type": "markdown",
   "id": "0541c730",
   "metadata": {},
   "source": [
    "Criando um Banco de Dados SQLite"
   ]
  },
  {
   "cell_type": "code",
   "execution_count": 1,
   "id": "c5b9be2e",
   "metadata": {},
   "outputs": [
    {
     "name": "stdout",
     "output_type": "stream",
     "text": [
      "Versao da Linguagem Python Usada Neste Jupyter Notebook:  3.9.13\n"
     ]
    }
   ],
   "source": [
    "# Versao da Linguagem Python\n",
    "from platform import python_version\n",
    "print('Versao da Linguagem Python Usada Neste Jupyter Notebook: ', python_version())"
   ]
  },
  {
   "cell_type": "code",
   "execution_count": 2,
   "id": "0a68afd2",
   "metadata": {},
   "outputs": [],
   "source": [
    "# Acessando Banco de Dados com Python \n",
    "\n",
    "# Remove o arquivo com o banco de dados SQLite (Caso Exista)\n",
    "\n",
    "import os \n",
    "os.remove(\"escola.db\") if os.path.exists(\"escola.db\") else None"
   ]
  },
  {
   "cell_type": "code",
   "execution_count": 3,
   "id": "e389c753",
   "metadata": {},
   "outputs": [],
   "source": [
    "# Importando o modulo de acesso ao SQLite\n",
    "\n",
    "import sqlite3"
   ]
  },
  {
   "cell_type": "code",
   "execution_count": 4,
   "id": "220bb14e",
   "metadata": {},
   "outputs": [],
   "source": [
    "# Cria uma conexao com o banco de dados.\n",
    "# Se o banco de dados nao existir, ele e criado neste momento.\n",
    "\n",
    "con = sqlite3.connect('escola.db')"
   ]
  },
  {
   "cell_type": "code",
   "execution_count": 5,
   "id": "294cbe4b",
   "metadata": {},
   "outputs": [
    {
     "data": {
      "text/plain": [
       "sqlite3.Connection"
      ]
     },
     "execution_count": 5,
     "metadata": {},
     "output_type": "execute_result"
    }
   ],
   "source": [
    "type(con)"
   ]
  },
  {
   "cell_type": "code",
   "execution_count": 6,
   "id": "47706833",
   "metadata": {},
   "outputs": [],
   "source": [
    "# Criando um cursor \n",
    "\n",
    "cur = con.cursor()"
   ]
  },
  {
   "cell_type": "code",
   "execution_count": 7,
   "id": "1c96b467",
   "metadata": {},
   "outputs": [
    {
     "data": {
      "text/plain": [
       "sqlite3.Cursor"
      ]
     },
     "execution_count": 7,
     "metadata": {},
     "output_type": "execute_result"
    }
   ],
   "source": [
    "type(cur)"
   ]
  },
  {
   "cell_type": "code",
   "execution_count": 8,
   "id": "88235934",
   "metadata": {},
   "outputs": [],
   "source": [
    "# Criando uma instrucao SQL \n",
    "\n",
    "sql_create = 'create table cursos '\\\n",
    "'(id integer primary key, '\\\n",
    "'titulo varchar(100), '\\\n",
    "'categoria varchar(140))'"
   ]
  },
  {
   "cell_type": "code",
   "execution_count": 9,
   "id": "60221c91",
   "metadata": {},
   "outputs": [
    {
     "data": {
      "text/plain": [
       "<sqlite3.Cursor at 0x24acbd8fc00>"
      ]
     },
     "execution_count": 9,
     "metadata": {},
     "output_type": "execute_result"
    }
   ],
   "source": [
    "# Executando a instrucao sql no cursor \n",
    "\n",
    "cur.execute(sql_create)"
   ]
  },
  {
   "cell_type": "code",
   "execution_count": 10,
   "id": "d785024e",
   "metadata": {},
   "outputs": [],
   "source": [
    "# Criando outra Sentenca SQL para inserir registros\n",
    "\n",
    "sql_insert = 'insert into cursos values (?, ?, ?)'"
   ]
  },
  {
   "cell_type": "code",
   "execution_count": 11,
   "id": "c91799e0",
   "metadata": {},
   "outputs": [],
   "source": [
    "# Dados \n",
    "\n",
    "recset = [(1000, 'Ciencia de Dados', 'Data Science'),\n",
    "          (1001, 'Big Data Fundamentos', 'Big Data'),\n",
    "          (1002, 'Python Fundamentos', 'Analise de Dados')]"
   ]
  },
  {
   "cell_type": "code",
   "execution_count": 12,
   "id": "af977087",
   "metadata": {},
   "outputs": [],
   "source": [
    "# Inserindo os registros\n",
    "\n",
    "for rec in recset:\n",
    "    cur.execute(sql_insert, rec)"
   ]
  },
  {
   "cell_type": "code",
   "execution_count": 13,
   "id": "39c00832",
   "metadata": {},
   "outputs": [],
   "source": [
    "# Grava a transacao\n",
    "\n",
    "con.commit()"
   ]
  },
  {
   "cell_type": "code",
   "execution_count": 14,
   "id": "b896489b",
   "metadata": {},
   "outputs": [],
   "source": [
    "# Criando outra Sentenca SQL para Selecionar Registros\n",
    "\n",
    "sql_select = 'select * from cursos'"
   ]
  },
  {
   "cell_type": "code",
   "execution_count": 15,
   "id": "07a9c5f9",
   "metadata": {},
   "outputs": [],
   "source": [
    "# Seleciona todos os Registros e Recupera os Registros\n",
    "\n",
    "cur.execute(sql_select)\n",
    "dados = cur.fetchall()"
   ]
  },
  {
   "cell_type": "code",
   "execution_count": 16,
   "id": "ddcdc227",
   "metadata": {},
   "outputs": [
    {
     "name": "stdout",
     "output_type": "stream",
     "text": [
      "Curso Id: 1000, Titulo: Ciencia de Dados, Categoria: Data Science \n",
      "\n",
      "Curso Id: 1001, Titulo: Big Data Fundamentos, Categoria: Big Data \n",
      "\n",
      "Curso Id: 1002, Titulo: Python Fundamentos, Categoria: Analise de Dados \n",
      "\n"
     ]
    }
   ],
   "source": [
    "# Mostra \n",
    "\n",
    "for linha in dados: \n",
    "    print ('Curso Id: %d, Titulo: %s, Categoria: %s \\n' % linha)"
   ]
  },
  {
   "cell_type": "code",
   "execution_count": 17,
   "id": "96b36f63",
   "metadata": {},
   "outputs": [],
   "source": [
    "# Gerando outros Registros\n",
    "\n",
    "recset = [(1003, 'Gestao de Dados com MongoDB', 'Big Data'),\n",
    "          (1004, 'R Fundamentos', 'Analise de Dados')]\n",
    "\n",
    "# Inserindo os Registros \n",
    "\n",
    "for rec in recset:\n",
    "    cur.execute(sql_insert, rec)\n",
    "    \n",
    "# Gravacao da Transacao\n",
    "\n",
    "con.commit()"
   ]
  },
  {
   "cell_type": "code",
   "execution_count": 18,
   "id": "4b8003ce",
   "metadata": {},
   "outputs": [
    {
     "name": "stdout",
     "output_type": "stream",
     "text": [
      "Curso Id: 1000, Titulo: Ciencia de Dados, Categoria: Data Science \n",
      "\n",
      "Curso Id: 1001, Titulo: Big Data Fundamentos, Categoria: Big Data \n",
      "\n",
      "Curso Id: 1002, Titulo: Python Fundamentos, Categoria: Analise de Dados \n",
      "\n",
      "Curso Id: 1003, Titulo: Gestao de Dados com MongoDB, Categoria: Big Data \n",
      "\n",
      "Curso Id: 1004, Titulo: R Fundamentos, Categoria: Analise de Dados \n",
      "\n"
     ]
    }
   ],
   "source": [
    "# Seleciona todos os Registros\n",
    "\n",
    "cur.execute('select * from cursos')\n",
    "\n",
    "# Recupera os Resultados\n",
    "\n",
    "recset = cur.fetchall()\n",
    "\n",
    "# Mostra\n",
    "\n",
    "for rec in recset:\n",
    "    print('Curso Id: %d, Titulo: %s, Categoria: %s \\n' % rec)"
   ]
  },
  {
   "cell_type": "code",
   "execution_count": 19,
   "id": "fa41934e",
   "metadata": {},
   "outputs": [],
   "source": [
    "# Fecha a Conexao\n",
    "con.close()"
   ]
  }
 ],
 "metadata": {
  "kernelspec": {
   "display_name": "Python 3 (ipykernel)",
   "language": "python",
   "name": "python3"
  },
  "language_info": {
   "codemirror_mode": {
    "name": "ipython",
    "version": 3
   },
   "file_extension": ".py",
   "mimetype": "text/x-python",
   "name": "python",
   "nbconvert_exporter": "python",
   "pygments_lexer": "ipython3",
   "version": "3.9.13"
  }
 },
 "nbformat": 4,
 "nbformat_minor": 5
}
