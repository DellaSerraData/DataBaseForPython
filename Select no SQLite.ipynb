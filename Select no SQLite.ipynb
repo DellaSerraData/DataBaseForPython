{
 "cells": [
  {
   "cell_type": "markdown",
   "id": "2b9617d3",
   "metadata": {},
   "source": [
    "Leitura de Dados"
   ]
  },
  {
   "cell_type": "code",
   "execution_count": 1,
   "id": "e4e40024",
   "metadata": {},
   "outputs": [],
   "source": [
    "import sqlite3\n",
    "import random\n",
    "import time\n",
    "import datetime\n",
    "\n",
    "# Criando uma conexao\n",
    "\n",
    "conn = sqlite3.connect('dsa.db')\n",
    "\n",
    "# Criando um cursor \n",
    "\n",
    "c = conn.cursor()\n",
    "\n",
    "# Funcao para criar uma tabela\n",
    "\n",
    "def create_table():\n",
    "    c.execute('CREATE TABLE IF NOT EXISTS produtos(id INTEGER PRIMARY KEY AUTOINCREMENT NOT NULL, date TEXT, '\\\n",
    "             'prod_name TEXT, valor REAL)')\n",
    "    \n",
    "# Funcao para inserir uma linha \n",
    "\n",
    "def data_insert():\n",
    "    c.execute(\"INSERT INTO produtos VALUES(002, '02-05-2020', 'teclado', 130)\")\n",
    "    conn.commit()\n",
    "    c.close()\n",
    "    conn.close()\n",
    "    \n",
    "# Usando variaveis para inserir dados\n",
    "\n",
    "def data_insert_var():\n",
    "    new_date = datetime.datetime.now()\n",
    "    new_prod_name = 'monitor'\n",
    "    new_valor = random.randrange(50, 100)\n",
    "    c.execute(\"INSERT INTO produtos (date, prod_name, valor) VALUES (?, ?, ?, ?)\",\n",
    "             (new_date, new_prod_name, new_valor))\n",
    "    conn.commit()\n",
    "    \n",
    "# Leitura de Dados\n",
    "\n",
    "def leitura_todos_dados():\n",
    "    c.execute(\"SELECT * FROM PRODUTOS\")\n",
    "    for linha in c.fetchall():\n",
    "        print(linha)\n",
    "        \n",
    "        \n",
    "# Leitura de registros especificos\n",
    "\n",
    "def leitura_registros():\n",
    "    c.execute(\"SELECT * FROM PRODUTOS WHERE valor > 60.0\")\n",
    "    for linha in c.fetchall():\n",
    "        print(linha)\n",
    "\n",
    "        \n",
    "# Leitura de Colunas Especificas\n",
    "\n",
    "def leitura_colunas():\n",
    "    c.execute(\"SELECT * FROM PRODUTOS\")\n",
    "    for linha in c.fetchall():\n",
    "        print(linha[3])\n"
   ]
  },
  {
   "cell_type": "code",
   "execution_count": 2,
   "id": "52c6fe87",
   "metadata": {},
   "outputs": [
    {
     "name": "stdout",
     "output_type": "stream",
     "text": [
      "(10, '2020-05-02 14:32:11', 'Teclado', 90.0)\n",
      "(11, '2022-11-21 17:10:08.060619', 'Monitor', 66.0)\n",
      "(12, '2022-11-21 17:10:09.099231', 'Monitor', 61.0)\n",
      "(13, '2022-11-21 17:10:10.133471', 'Monitor', 73.0)\n",
      "(14, '2022-11-21 17:10:11.163995', 'Monitor', 69.0)\n",
      "(15, '2022-11-21 17:10:12.208318', 'Monitor', 90.0)\n",
      "(16, '2022-11-21 17:10:13.238781', 'Monitor', 88.0)\n",
      "(17, '2022-11-21 17:10:14.271696', 'Monitor', 56.0)\n",
      "(18, '2022-11-21 17:10:15.288140', 'Monitor', 83.0)\n",
      "(19, '2022-11-21 17:10:16.303518', 'Monitor', 83.0)\n",
      "(20, '2022-11-21 17:10:17.334639', 'Monitor', 91.0)\n"
     ]
    }
   ],
   "source": [
    "# Select nos dados\n",
    "\n",
    "leitura_todos_dados()"
   ]
  },
  {
   "cell_type": "code",
   "execution_count": 3,
   "id": "fa04d6fa",
   "metadata": {},
   "outputs": [
    {
     "name": "stdout",
     "output_type": "stream",
     "text": [
      "(10, '2020-05-02 14:32:11', 'Teclado', 90.0)\n",
      "(11, '2022-11-21 17:10:08.060619', 'Monitor', 66.0)\n",
      "(12, '2022-11-21 17:10:09.099231', 'Monitor', 61.0)\n",
      "(13, '2022-11-21 17:10:10.133471', 'Monitor', 73.0)\n",
      "(14, '2022-11-21 17:10:11.163995', 'Monitor', 69.0)\n",
      "(15, '2022-11-21 17:10:12.208318', 'Monitor', 90.0)\n",
      "(16, '2022-11-21 17:10:13.238781', 'Monitor', 88.0)\n",
      "(18, '2022-11-21 17:10:15.288140', 'Monitor', 83.0)\n",
      "(19, '2022-11-21 17:10:16.303518', 'Monitor', 83.0)\n",
      "(20, '2022-11-21 17:10:17.334639', 'Monitor', 91.0)\n"
     ]
    }
   ],
   "source": [
    "# Leitura de registros especificos \n",
    "\n",
    "leitura_registros()"
   ]
  },
  {
   "cell_type": "code",
   "execution_count": 4,
   "id": "4127eec0",
   "metadata": {},
   "outputs": [
    {
     "name": "stdout",
     "output_type": "stream",
     "text": [
      "90.0\n",
      "66.0\n",
      "61.0\n",
      "73.0\n",
      "69.0\n",
      "90.0\n",
      "88.0\n",
      "56.0\n",
      "83.0\n",
      "83.0\n",
      "91.0\n"
     ]
    }
   ],
   "source": [
    "# Leitura de Colunas Especificas\n",
    "\n",
    "leitura_colunas()"
   ]
  },
  {
   "cell_type": "code",
   "execution_count": 5,
   "id": "ae4a4ea5",
   "metadata": {},
   "outputs": [],
   "source": [
    "# Encerrando a Conexao\n",
    "\n",
    "c.close()\n",
    "conn.close()"
   ]
  }
 ],
 "metadata": {
  "kernelspec": {
   "display_name": "Python 3 (ipykernel)",
   "language": "python",
   "name": "python3"
  },
  "language_info": {
   "codemirror_mode": {
    "name": "ipython",
    "version": 3
   },
   "file_extension": ".py",
   "mimetype": "text/x-python",
   "name": "python",
   "nbconvert_exporter": "python",
   "pygments_lexer": "ipython3",
   "version": "3.9.13"
  }
 },
 "nbformat": 4,
 "nbformat_minor": 5
}
