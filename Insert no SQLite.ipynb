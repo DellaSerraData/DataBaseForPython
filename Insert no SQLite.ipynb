{
 "cells": [
  {
   "cell_type": "markdown",
   "id": "8f2a72a3",
   "metadata": {},
   "source": [
    "Criando o Banco de Dados e Inserindo Dados"
   ]
  },
  {
   "cell_type": "code",
   "execution_count": 1,
   "id": "a606360e",
   "metadata": {},
   "outputs": [],
   "source": [
    "# Remove o arquivo com o Banco de Dados SQLite (Caso Exista)\n",
    "import os \n",
    "os.remove(\"dsa.db\") if os.path.exists(\"dsa.db\") else None"
   ]
  },
  {
   "cell_type": "code",
   "execution_count": 2,
   "id": "8eb87fb7",
   "metadata": {},
   "outputs": [],
   "source": [
    "import sqlite3\n",
    "\n",
    "# Criando uma Conexao \n",
    "\n",
    "conn = sqlite3.connect('dsa.db')\n",
    "\n",
    "# Criando um Cursor \n",
    "\n",
    "c = conn.cursor()\n",
    "\n",
    "# Funcao para criar uma Tabela\n",
    "\n",
    "def create_table():\n",
    "    c.execute('CREATE TABLE IF NOT EXISTS produtos(id INTEGER PRIMARY KEY AUTOINCREMENT NOT NULL, date TEXT, '\\\n",
    "             'prod_name TEXT, valor REAL)')\n",
    "    \n",
    "# Funcao para inserir uma linha \n",
    "\n",
    "def data_insert():\n",
    "    c.execute(\"INSERT INTO produtos VALUES(10, '2020-05-02 14:32:11', 'Teclado', 90 )\")\n",
    "    conn.commit()\n",
    "    c.close()\n",
    "    conn.close()"
   ]
  },
  {
   "cell_type": "code",
   "execution_count": 3,
   "id": "ef488cf3",
   "metadata": {},
   "outputs": [],
   "source": [
    "# Criar Tabela \n",
    "create_table()"
   ]
  },
  {
   "cell_type": "code",
   "execution_count": 4,
   "id": "df2b961f",
   "metadata": {},
   "outputs": [],
   "source": [
    "# Inserir Dados\n",
    "data_insert()"
   ]
  }
 ],
 "metadata": {
  "kernelspec": {
   "display_name": "Python 3 (ipykernel)",
   "language": "python",
   "name": "python3"
  },
  "language_info": {
   "codemirror_mode": {
    "name": "ipython",
    "version": 3
   },
   "file_extension": ".py",
   "mimetype": "text/x-python",
   "name": "python",
   "nbconvert_exporter": "python",
   "pygments_lexer": "ipython3",
   "version": "3.9.13"
  }
 },
 "nbformat": 4,
 "nbformat_minor": 5
}
